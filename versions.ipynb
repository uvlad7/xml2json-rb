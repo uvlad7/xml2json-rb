{
 "cells": [
  {
   "cell_type": "code",
   "execution_count": 1,
   "metadata": {},
   "outputs": [
    {
     "data": {
      "text/plain": [
       "[[\"0.3.1\", \"0.3.1-x86_64-linux-musl\", {:total_downloads=>1961, :version_downloads=>136}], [\"0.3.1\", \"0.3.1-x86_64-linux\", {:total_downloads=>1961, :version_downloads=>132}], [\"0.3.1\", \"0.3.1-x86_64-darwin\", {:total_downloads=>1961, :version_downloads=>122}], [\"0.3.1\", \"0.3.1-x64-mingw-ucrt\", {:total_downloads=>1961, :version_downloads=>122}], [\"0.3.1\", \"0.3.1-x64-mingw32\", {:total_downloads=>1961, :version_downloads=>127}], [\"0.3.1\", \"0.3.1-arm-linux\", {:total_downloads=>1961, :version_downloads=>122}], [\"0.3.1\", \"0.3.1-arm64-darwin\", {:total_downloads=>1961, :version_downloads=>122}], [\"0.3.1\", \"0.3.1-aarch64-linux\", {:total_downloads=>1961, :version_downloads=>123}], [\"0.3.1\", \"0.3.1\", {:total_downloads=>1961, :version_downloads=>152}], [\"0.3.0\", \"0.3.0\", {:total_downloads=>1961, :version_downloads=>165}], [\"0.2.1\", \"0.2.1\", {:total_downloads=>1961, :version_downloads=>223}], [\"0.1.1\", \"0.1.1\", {:total_downloads=>1961, :version_downloads=>189}], [\"0.1.0\", \"0.1.0\", {:total_downloads=>1961, :version_downloads=>167}]]"
      ]
     },
     "execution_count": 1,
     "metadata": {},
     "output_type": "execute_result"
    }
   ],
   "source": [
    "require \"curl\"\n",
    "require \"json\"\n",
    "\n",
    "def get(url)\n",
    "    JSON.parse(Curl.get(url).body_str, symbolize_names: true)\n",
    "end\n",
    "\n",
    "versions = get(\"https://rubygems.org/api/v1/versions/xml2json-rb.json\")\n",
    "downloads = versions.map do |version|\n",
    "    platform = \"-#{version[:platform]}\" unless version[:platform] == \"ruby\"\n",
    "    version_name = \"#{version[:number]}#{platform}\"\n",
    "    [version[:number], version_name, get(\"https://rubygems.org/api/v1/downloads/xml2json-rb-#{version_name}.json\")]\n",
    "end"
   ]
  },
  {
   "cell_type": "code",
   "execution_count": 2,
   "metadata": {},
   "outputs": [
    {
     "name": "stdout",
     "output_type": "stream",
     "text": [
      "{\n",
      "  \"downloads\": {\n",
      "    \"0.3.1\": 1158,\n",
      "    \"0.3.0\": 165,\n",
      "    \"0.2.1\": 223,\n",
      "    \"0.1.1\": 189,\n",
      "    \"0.1.0\": 167\n",
      "  },\n",
      "  \"total_downloads\": 1902,\n",
      "  \"platform_downloads\": {\n",
      "    \"0.3.1\": {\n",
      "      \"0.3.1-x86_64-linux-musl\": 136,\n",
      "      \"0.3.1-x86_64-linux\": 132,\n",
      "      \"0.3.1-x86_64-darwin\": 122,\n",
      "      \"0.3.1-x64-mingw-ucrt\": 122,\n",
      "      \"0.3.1-x64-mingw32\": 127,\n",
      "      \"0.3.1-arm-linux\": 122,\n",
      "      \"0.3.1-arm64-darwin\": 122,\n",
      "      \"0.3.1-aarch64-linux\": 123,\n",
      "      \"0.3.1\": 152\n",
      "    }\n",
      "  }\n",
      "}\n"
     ]
    }
   ],
   "source": [
    "downloads_map = downloads.map do |version_number, version_name, data|\n",
    "    [version_number, data[:version_downloads]]\n",
    "end.group_by { |version_number, version_downloads| version_number }.\n",
    "transform_values { |values| values.map { |version_number, version_downloads| version_downloads }.sum }\n",
    "\n",
    "downloads_version_map = downloads.group_by do |version_number, version_name, data|\n",
    "    version_number\n",
    "end.transform_values do |values|\n",
    "    values.map do |version_number, version_name, data|\n",
    "        [version_name, data[:version_downloads]]\n",
    "    end.to_h\n",
    "end.reject do |version, downloads_map|\n",
    "    downloads_map.size == 1\n",
    "end\n",
    "\n",
    "total_downloads = downloads_map.values.sum\n",
    "total_downloads_yanked = downloads.first.last[:total_downloads] - total_downloads\n",
    "\n",
    "puts JSON.pretty_generate({\n",
    "    downloads: downloads_map,\n",
    "    total_downloads: total_downloads,\n",
    "    platform_downloads: downloads_version_map,\n",
    "})\n",
    "\n",
    "# require 'matplotlib/iruby'\n",
    "# Matplotlib::IRuby.activate\n",
    "# plt = Matplotlib::Pyplot\n",
    "\n",
    "# plt.figure\n",
    "# plt.gcf.set_size_inches(8, 6)\n",
    "# plt.title(\"Гистограмма Bi(1, #{p1})\")\n",
    "# plt.xticks((0..1).step(0.1).to_a)\n",
    "# plt.hist(bernoulli_arr, 100, cumulative: 0, color: 'green', zorder: 0)\n",
    "# plt.scatter([0, 1], [bernoulli_arr.size * (1 - p1), bernoulli_arr.size * p1], 50, \"red\", zorder: 1)\n",
    "# plt.grid\n",
    "# plt.show\n",
    "\n",
    "\n",
    "# plt.figure\n",
    "# plt.gcf.set_size_inches(12, 12)\n",
    "# plt.title(\"Number of processes: #{prc}, sizes: #{k}\")\n",
    "# plt.xlabel(\"Block size\")\n",
    "# plt.ylabel(\"Time in sec\")\n",
    "# color = generator.create_hex\n",
    "# et = v_arr.find { |r| r[4] == -1 }[-1]\n",
    "# plt.axhline(et, zorder: 1, label: \"Etalon\", color: \"##{color}\")\n",
    "# d = [{:x=>[], :y=>[]}, {:x=>[], :y=>[]}, {:x=>[], :y=>[]}]\n",
    "# v_arr.each do |r|\n",
    "#     next if r[4] == -1\n",
    "#     d[r[4]][:x].push(r[-2])\n",
    "#     d[r[4]][:y].push(r[-1])\n",
    "# end\n",
    "# d.each_with_index do |p, i|\n",
    "#     c = color.paint.spin(90 * (i + 1)).to_hex\n",
    "#     plt.axhline(p[:y][p[:x].index(0)], zorder: 0, color: 'black')\n",
    "#     plt.plot(p[:x], p[:y], zorder: 2 * i + 2, label: \"Parallelisation: #{parallelisation[i]}\", color: c)\n",
    "#     plt.scatter(p[:x], p[:y], 10, zorder: 2 * i + 3, color: \"black\")\n",
    "# end\n",
    "# plt.legend(loc: \"upper center\", bbox_to_anchor: [0.5, -0.05], fancybox: true, shadow: true, ncol: 4)\n",
    "# plt.grid\n",
    "# plt.show"
   ]
  },
  {
   "cell_type": "code",
   "execution_count": null,
   "metadata": {},
   "outputs": [],
   "source": []
  }
 ],
 "metadata": {
  "kernelspec": {
   "display_name": "Ruby 2.7.8",
   "language": "ruby",
   "name": "ruby"
  },
  "language_info": {
   "file_extension": ".rb",
   "mimetype": "application/x-ruby",
   "name": "ruby",
   "version": "2.7.8"
  },
  "orig_nbformat": 4
 },
 "nbformat": 4,
 "nbformat_minor": 2
}
